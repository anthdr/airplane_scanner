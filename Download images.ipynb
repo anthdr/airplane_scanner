{
 "cells": [
  {
   "cell_type": "code",
   "execution_count": null,
   "metadata": {},
   "outputs": [],
   "source": [
    "#import packages\n",
    "import os\n",
    "import pandas as pd\n",
    "from sklearn.model_selection import KFold\n",
    "import cv2\n",
    "import matplotlib.pyplot as plt\n",
    "import matplotlib.image as mpimg\n",
    "from PIL import Image\n",
    "from numpy import asarray\n",
    "\n",
    "from bing_image_downloader import downloader"
   ]
  },
  {
   "cell_type": "code",
   "execution_count": null,
   "metadata": {},
   "outputs": [],
   "source": [
    "#make directories to store pictures\n",
    "!mkdir mili\n",
    "!mkdir \"mili/su-37\"\n",
    "!mkdir \"mili/f-22\"\n",
    "!mkdir \"mili/mirage-2000\"\n",
    "!mkdir \"mili/rafale\"\n",
    "\n",
    "!mkdir civi\n",
    "!mkdir \"civi/727\"\n",
    "!mkdir \"civi/707\"\n",
    "!mkdir \"civi/380\"\n",
    "!mkdir \"civi/320\""
   ]
  },
  {
   "cell_type": "code",
   "execution_count": null,
   "metadata": {},
   "outputs": [],
   "source": [
    "#download pictures from bing in previously created directories\n",
    "downloader.download(\"su-37 airplane\", limit=600,  output_dir='mili/su-37', adult_filter_off=True, force_replace=False, timeout=60, verbose=True)\n",
    "downloader.download(\"f-22 airplane\", limit=600,  output_dir='mili/f-22', adult_filter_off=True, force_replace=False, timeout=60, verbose=True)\n",
    "downloader.download(\"mirage 2000 airplane\", limit=600,  output_dir='mili/mirage-2000', adult_filter_off=True, force_replace=False, timeout=60, verbose=True)\n",
    "downloader.download(\"rafale airplane\", limit=600,  output_dir='mili/rafale', adult_filter_off=True, force_replace=False, timeout=60, verbose=True)\n",
    "\n",
    "downloader.download(\"boeing 727 airplane\", limit=600,  output_dir='civi/727', adult_filter_off=True, force_replace=False, timeout=60, verbose=True)\n",
    "downloader.download(\"boeing 707 airplane\", limit=600,  output_dir='civi/707', adult_filter_off=True, force_replace=False, timeout=60, verbose=True)\n",
    "downloader.download(\"airbus 380 airplane\", limit=600,  output_dir='civi/380', adult_filter_off=True, force_replace=False, timeout=60, verbose=True)\n",
    "downloader.download(\"airbus 320 airplane\", limit=600,  output_dir='civi/320', adult_filter_off=True, force_replace=False, timeout=60, verbose=True)"
   ]
  },
  {
   "cell_type": "code",
   "execution_count": null,
   "metadata": {},
   "outputs": [],
   "source": [
    "#convert all images into .jpg\n",
    "def convert(zmodel, zairplane, zpath):\n",
    "    corepath = \"C:/Users/antoi/Google Drive/Computer Vision/airplane scanner/\" + zmodel + \"/\" + zairplane + \"/\" + zpath + \"/\"\n",
    "    arr = os.listdir(corepath)\n",
    "    path = []\n",
    "    for i in range(len(arr)):\n",
    "        path.append(corepath + arr[i])\n",
    "    \n",
    "    #nested if loop to handle .gif\n",
    "    for i in range(len(path)):\n",
    "        if \".gif\" in path[i]:\n",
    "            print(\"found .gif!\")\n",
    "            cap = cv2.VideoCapture(path[i])\n",
    "            ret, image = cap.read()\n",
    "            cap.release()\n",
    "            replace_path = path[i].replace(\".gif\", \".jpg\")\n",
    "            #print(replace_path)\n",
    "            cv2.imwrite(replace_path, image)\n",
    "        else:\n",
    "            #print(path[i])\n",
    "            replace_path = path[i]\n",
    "            replace_path = replace_path.replace(\".png\", \".jpg\")\n",
    "            replace_path = replace_path.replace(\".jpeg\", \".jpg\")\n",
    "            replace_path = replace_path.replace(\".JPEG\", \".jpg\")\n",
    "            #print(replace_path)\n",
    "            img = cv2.imread(path[i])\n",
    "            cv2.imwrite(replace_path, img)\n",
    "    \n",
    "    for i in range(len(path)):\n",
    "        if \".gif\" in path[i]:\n",
    "            os.remove(path[i])\n",
    "        if \".png\" in path[i]:\n",
    "            os.remove(path[i])\n",
    "        if \".jpeg\" in path[i]:\n",
    "            os.remove(path[i])\n",
    "        if \".JPEG\" in path[i]:\n",
    "            os.remove(path[i]) \n",
    "        \n",
    "    print(zairplane, 'done!')"
   ]
  },
  {
   "cell_type": "code",
   "execution_count": null,
   "metadata": {},
   "outputs": [],
   "source": [
    "convert('civi', '320', 'airbus 320 airplane')\n",
    "convert('civi', '380', 'airbus 380 airplane')\n",
    "convert('civi', '707', 'boeing 707 airplane')\n",
    "convert('civi', '727', 'boeing 727 airplane')\n",
    "\n",
    "convert(\"mili\", \"su-37\", \"su-37 airplane\")\n",
    "convert(\"mili\", \"f-22\", \"f-22 airplane\")\n",
    "convert(\"mili\", \"mirage-2000\", \"mirage 2000 airplane\")\n",
    "convert(\"mili\", \"rafale\", \"rafale airplane\")"
   ]
  },
  {
   "cell_type": "code",
   "execution_count": null,
   "metadata": {},
   "outputs": [],
   "source": [
    "#make all pictures into 256*256 dimension\n",
    "pxl = 256\n",
    "\n",
    "def modify_and_save(zmodel, zairplane, zpath):\n",
    "    corepath = \"C:/Users/antoi/Google Drive/Computer Vision/airplane scanner/\" + zmodel + \"/\" + zairplane + \"/\" + zpath + \"/\"\n",
    "    arr = os.listdir(corepath)\n",
    "    path = []\n",
    "    for i in range(len(arr)):\n",
    "        path.append(corepath + arr[i])\n",
    "\n",
    "\n",
    "    for i in range(len(path)):\n",
    "        img = cv2.imread(path[i])\n",
    "        img = cv2.resize(img, (pxl, pxl), interpolation = cv2.INTER_AREA)\n",
    "        cv2.imwrite(path[i], img)\n",
    "        \n",
    "    print(zairplane, 'done!')"
   ]
  },
  {
   "cell_type": "code",
   "execution_count": null,
   "metadata": {},
   "outputs": [],
   "source": [
    "modify_and_save('civi', '320', 'airbus 320 airplane')\n",
    "modify_and_save('civi', '380', 'airbus 380 airplane')\n",
    "modify_and_save('civi', '707', 'boeing 707 airplane')\n",
    "modify_and_save('civi', '727', 'boeing 727 airplane')\n",
    "\n",
    "modify_and_save(\"mili\", \"su-37\", \"su-37 airplane\")\n",
    "modify_and_save(\"mili\", \"f-22\", \"f-22 airplane\")\n",
    "modify_and_save(\"mili\", \"mirage-2000\", \"mirage 2000 airplane\")\n",
    "modify_and_save(\"mili\", \"rafale\", \"rafale airplane\")"
   ]
  }
 ],
 "metadata": {
  "kernelspec": {
   "display_name": "Python 3 (ipykernel)",
   "language": "python",
   "name": "python3"
  },
  "language_info": {
   "codemirror_mode": {
    "name": "ipython",
    "version": 3
   },
   "file_extension": ".py",
   "mimetype": "text/x-python",
   "name": "python",
   "nbconvert_exporter": "python",
   "pygments_lexer": "ipython3",
   "version": "3.7.11"
  }
 },
 "nbformat": 4,
 "nbformat_minor": 4
}

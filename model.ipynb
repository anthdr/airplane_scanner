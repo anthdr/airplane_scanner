{
 "cells": [
  {
   "cell_type": "code",
   "execution_count": 1,
   "id": "c3058e1d",
   "metadata": {},
   "outputs": [],
   "source": [
    "#import packages\n",
    "import os\n",
    "import pandas as pd\n",
    "from sklearn.model_selection import KFold\n",
    "import cv2 #opencv\n",
    "import matplotlib.pyplot as plt\n",
    "import matplotlib.image as mpimg\n",
    "from PIL import Image\n",
    "from numpy import asarray\n",
    "import numpy as np"
   ]
  },
  {
   "cell_type": "code",
   "execution_count": 2,
   "id": "b360bf92",
   "metadata": {},
   "outputs": [],
   "source": [
    "#make empty lists to prepare input and outputs data\n",
    "path = []\n",
    "model = []\n",
    "airplane = []"
   ]
  },
  {
   "cell_type": "code",
   "execution_count": 3,
   "id": "78484ff1",
   "metadata": {},
   "outputs": [],
   "source": [
    "#prepare input and outputs data (store picture's path and validation outputs)\n",
    "def each_plane(zmodel, zairplane, zpath):\n",
    "    corepath = \"C:/Users/antoi/Google Drive/Computer Vision/airplane scanner/\" + zmodel + \"/\" + zairplane + \"/\" + zpath + \"/\"\n",
    "    arr = os.listdir(corepath)\n",
    "    curr_path = []\n",
    "    for i in range(len(arr)):\n",
    "        curr_path.append(corepath + arr[i])\n",
    "    path.extend(curr_path)\n",
    "    \n",
    "    curr_model = []\n",
    "    for i in range(len(arr)):\n",
    "        curr_model.append(zmodel)\n",
    "    model.extend(curr_model)\n",
    "    \n",
    "    curr_airplane = []\n",
    "    for i in range(len(arr)):\n",
    "        curr_airplane.append(zairplane)\n",
    "    airplane.extend(curr_airplane)"
   ]
  },
  {
   "cell_type": "code",
   "execution_count": 4,
   "id": "392a83a4",
   "metadata": {},
   "outputs": [],
   "source": [
    "each_plane(\"civi\", \"727\", \"boeing 727 airplane\")\n",
    "each_plane(\"civi\", \"707\", \"boeing 707 airplane\")\n",
    "each_plane(\"civi\", \"380\", \"airbus 380 airplane\")\n",
    "each_plane(\"civi\", \"320\", \"airbus 320 airplane\")\n",
    "\n",
    "each_plane(\"mili\", \"su-37\", \"su-37 airplane\")\n",
    "each_plane(\"mili\", \"f-22\", \"f-22 airplane\")\n",
    "each_plane(\"mili\", \"mirage-2000\", \"mirage 2000 airplane\")\n",
    "each_plane(\"mili\", \"rafale\", \"rafale airplane\")"
   ]
  },
  {
   "cell_type": "code",
   "execution_count": 5,
   "id": "c5485fdf",
   "metadata": {},
   "outputs": [],
   "source": [
    "#transform the pictures into a list of array\n",
    "X = []\n",
    "\n",
    "for i in range(len(path)):\n",
    "    img = cv2.imread(path[i])\n",
    "    img = asarray(img)\n",
    "    mean = img.mean()\n",
    "    img = img - mean\n",
    "    X.append(img)\n",
    "    \n",
    "X = np.asarray(X).astype(np.float32)"
   ]
  },
  {
   "cell_type": "code",
   "execution_count": 6,
   "id": "50dd3263",
   "metadata": {},
   "outputs": [
    {
     "name": "stdout",
     "output_type": "stream",
     "text": [
      "727\n",
      "{'320': 0, '380': 1, '707': 2, '727': 3, 'f-22': 4, 'mirage-2000': 5, 'rafale': 6, 'su-37': 7}\n",
      "3.0\n"
     ]
    },
    {
     "name": "stderr",
     "output_type": "stream",
     "text": [
      "Using TensorFlow backend.\n"
     ]
    },
    {
     "name": "stdout",
     "output_type": "stream",
     "text": [
      "[0. 0. 0. 1. 0. 0. 0. 0.]\n",
      "<class 'numpy.ndarray'>\n",
      "3\n",
      "3\n",
      "727\n"
     ]
    }
   ],
   "source": [
    "#transform outputs label intop numbers; make a dictionary of relation between labels and their given number.\n",
    "from sklearn import preprocessing\n",
    "\n",
    "print(airplane[1])\n",
    "\n",
    "le2 = preprocessing.LabelEncoder()\n",
    "le2.fit(airplane)\n",
    "\n",
    "y = le2.transform(airplane)\n",
    "y = np.asarray(y).astype(np.float32)\n",
    "\n",
    "y_map = dict(zip(le2.classes_, le2.transform(le2.classes_)))\n",
    "print(y_map)\n",
    "y_keys, y_values = zip(*y_map.items())\n",
    "#print(y_keys)\n",
    "#print(y_values)\n",
    "\n",
    "print(y[1])\n",
    "\n",
    "from keras.utils import to_categorical\n",
    "y = to_categorical(y)\n",
    "\n",
    "print(y[1])\n",
    "print(type(y[1]))\n",
    "print(np.argmax(y[1]))\n",
    "dd = np.argmax(y[1])\n",
    "print(dd)\n",
    "print(y_keys[dd])"
   ]
  },
  {
   "cell_type": "code",
   "execution_count": 7,
   "id": "c6073742",
   "metadata": {},
   "outputs": [],
   "source": [
    "#Split X & y for training and test.\n",
    "from sklearn.model_selection import train_test_split\n",
    "X_train, X_test, y_train, y_test = train_test_split(X, y, test_size=0.20, random_state=42)"
   ]
  },
  {
   "cell_type": "code",
   "execution_count": 9,
   "id": "959a46a2",
   "metadata": {},
   "outputs": [
    {
     "name": "stdout",
     "output_type": "stream",
     "text": [
      "256\n",
      "8\n",
      "(256, 256, 3)\n",
      "8\n"
     ]
    }
   ],
   "source": [
    "#prepare inputs and outputs shape values\n",
    "n_inputs = X.shape[1]\n",
    "n_outputs = len(list(le2.classes_))\n",
    "entry = (X.shape[1], X.shape[2], X.shape[3])\n",
    "exit = len(list(le2.classes_))\n",
    "print(n_inputs)\n",
    "print(n_outputs)\n",
    "print(entry)\n",
    "print(exit)"
   ]
  },
  {
   "cell_type": "code",
   "execution_count": 10,
   "id": "badcf4d0",
   "metadata": {},
   "outputs": [],
   "source": [
    "#import model packages\n",
    "from keras.layers import Dense\n",
    "from keras import Sequential\n",
    "from keras.layers import Conv2D\n",
    "from keras.layers import MaxPooling2D\n",
    "from keras.layers import Flatten\n",
    "from keras.layers import Dense\n",
    "from keras.optimizers import SGD\n",
    "from keras.layers import Dropout\n",
    "from keras.layers import BatchNormalization\n",
    "from keras.optimizers import SGD"
   ]
  },
  {
   "cell_type": "code",
   "execution_count": 25,
   "id": "9e1b3745",
   "metadata": {},
   "outputs": [],
   "source": [
    "from sklearn.metrics import accuracy_score, classification_report, confusion_matrix\n",
    "\n",
    "#define the model\n",
    "def get_model(n_inputs, n_outputs):\n",
    "    model = Sequential()\n",
    "    #input & 1st block\n",
    "    model.add(Conv2D(32, (3, 3), activation='relu', kernel_initializer='he_uniform', input_shape=entry))\n",
    "    model.add(BatchNormalization())\n",
    "    model.add(Conv2D(32, (3, 3), activation='relu', kernel_initializer='he_uniform'))\n",
    "    model.add(BatchNormalization())\n",
    "    model.add(MaxPooling2D((2, 2)))\n",
    "    model.add(Dropout(0.2))\n",
    "    #2nd block\n",
    "    model.add(Conv2D(64, (3, 3), activation='relu', kernel_initializer='he_uniform', padding='same'))\n",
    "    model.add(BatchNormalization())\n",
    "    model.add(Conv2D(64, (3, 3), activation='relu', kernel_initializer='he_uniform', padding='same'))\n",
    "    model.add(BatchNormalization())\n",
    "    model.add(MaxPooling2D((2, 2)))\n",
    "    model.add(Dropout(0.3))\n",
    "    #3rd block\n",
    "    model.add(Conv2D(128, (3, 3), activation='relu', kernel_initializer='he_uniform', padding='same'))\n",
    "    model.add(BatchNormalization())\n",
    "    model.add(Conv2D(128, (3, 3), activation='relu', kernel_initializer='he_uniform', padding='same'))\n",
    "    model.add(BatchNormalization())\n",
    "    model.add(MaxPooling2D((2, 2)))\n",
    "    model.add(Dropout(0.4))\n",
    "    #preparing exit\n",
    "    model.add(Flatten())\n",
    "    model.add(Dense(128, activation='relu', kernel_initializer='he_uniform'))\n",
    "    model.add(BatchNormalization())\n",
    "    model.add(Dropout(0.5))\n",
    "    #exit\n",
    "    model.add(Dense(exit, activation='softmax'))\n",
    "    #compile\n",
    "    opt = SGD(lr=0.001, momentum=0.9)\n",
    "    model.compile(loss='categorical_crossentropy', optimizer=opt , metrics=['accuracy'])\n",
    "    return model\n",
    "\n",
    "#del(y_pred)\n",
    "\n",
    "n_epochs = 20\n",
    "\n",
    "#train the model\n",
    "def evaluate_model(X_train, y_train, X_test, y_test):\n",
    "    results = list()\n",
    "    n_inputs, n_outputs = X.shape[1], exit\n",
    "    #call the previously defined model\n",
    "    model = get_model(n_inputs, n_outputs)\n",
    "    #train the model\n",
    "    print('Train...')\n",
    "    model.fit(X_train, y_train, verbose=1, epochs=n_epochs)\n",
    "    #test the model, return a confusion matrix\n",
    "    print('Evaluate...')\n",
    "    y_pred = model.predict_classes(X_test, verbose=1)\n",
    "    #y_pred = np.argmax(y_pred, axis=1)\n",
    "    #y_test = np.asarray(y_test).astype(int)\n",
    "    y_test = np.argmax(y_test, axis=1)\n",
    "    uu = accuracy_score(y_test, y_pred)\n",
    "    print('accuracy score on X_test is :', uu)\n",
    "    zz = confusion_matrix(y_test, y_pred, labels=y_values)\n",
    "    zz = pd.DataFrame(zz)\n",
    "    zz = zz.set_axis(list(le2.classes_), axis='columns', inplace=False)\n",
    "    zz = zz.set_axis(list(le2.classes_), axis='index', inplace=False)\n",
    "    print(zz)\n",
    "    return results"
   ]
  },
  {
   "cell_type": "code",
   "execution_count": 26,
   "id": "9de1ac76",
   "metadata": {
    "scrolled": true
   },
   "outputs": [
    {
     "name": "stdout",
     "output_type": "stream",
     "text": [
      "Train...\n",
      "Epoch 1/20\n",
      "3840/3840 [==============================] - 50s 13ms/step - loss: 2.1042 - accuracy: 0.3289\n",
      "Epoch 2/20\n",
      "3840/3840 [==============================] - 50s 13ms/step - loss: 1.2532 - accuracy: 0.5617\n",
      "Epoch 3/20\n",
      "3840/3840 [==============================] - 50s 13ms/step - loss: 0.8031 - accuracy: 0.7404\n",
      "Epoch 4/20\n",
      "3840/3840 [==============================] - 50s 13ms/step - loss: 0.5402 - accuracy: 0.8318\n",
      "Epoch 5/20\n",
      "3840/3840 [==============================] - 50s 13ms/step - loss: 0.4168 - accuracy: 0.8706\n",
      "Epoch 6/20\n",
      "3840/3840 [==============================] - 49s 13ms/step - loss: 0.3373 - accuracy: 0.8984\n",
      "Epoch 7/20\n",
      "3840/3840 [==============================] - 50s 13ms/step - loss: 0.3036 - accuracy: 0.9115\n",
      "Epoch 8/20\n",
      "3840/3840 [==============================] - 49s 13ms/step - loss: 0.2875 - accuracy: 0.9109\n",
      "Epoch 9/20\n",
      "3840/3840 [==============================] - 50s 13ms/step - loss: 0.2536 - accuracy: 0.9190\n",
      "Epoch 10/20\n",
      "3840/3840 [==============================] - 49s 13ms/step - loss: 0.2435 - accuracy: 0.9247\n",
      "Epoch 11/20\n",
      "3840/3840 [==============================] - 50s 13ms/step - loss: 0.2364 - accuracy: 0.9240\n",
      "Epoch 12/20\n",
      "3840/3840 [==============================] - 50s 13ms/step - loss: 0.2223 - accuracy: 0.9255\n",
      "Epoch 13/20\n",
      "3840/3840 [==============================] - 49s 13ms/step - loss: 0.1979 - accuracy: 0.9328\n",
      "Epoch 14/20\n",
      "3840/3840 [==============================] - 49s 13ms/step - loss: 0.2098 - accuracy: 0.9292\n",
      "Epoch 15/20\n",
      "3840/3840 [==============================] - 50s 13ms/step - loss: 0.2118 - accuracy: 0.9245\n",
      "Epoch 16/20\n",
      "3840/3840 [==============================] - 50s 13ms/step - loss: 0.1954 - accuracy: 0.9273\n",
      "Epoch 17/20\n",
      "3840/3840 [==============================] - 49s 13ms/step - loss: 0.1920 - accuracy: 0.9326\n",
      "Epoch 18/20\n",
      "3840/3840 [==============================] - 49s 13ms/step - loss: 0.1949 - accuracy: 0.9318\n",
      "Epoch 19/20\n",
      "3840/3840 [==============================] - 50s 13ms/step - loss: 0.1967 - accuracy: 0.9284\n",
      "Epoch 20/20\n",
      "3840/3840 [==============================] - 50s 13ms/step - loss: 0.1836 - accuracy: 0.9331\n",
      "Evaluate...\n",
      "960/960 [==============================] - 4s 4ms/step\n",
      "accuracy score on X_test is : 0.9229166666666667\n",
      "             320  380  707  727  f-22  mirage-2000  rafale  su-37\n",
      "320           74   24    0    2     2            3       1      1\n",
      "380           13   95    0    0     3            0       0      0\n",
      "707            0    0  122    2     0            1       0      0\n",
      "727            3    0    2  137     0            3       0      0\n",
      "f-22           0    0    0    0   126            0       0      0\n",
      "mirage-2000    0    0    0    1     0          103       1      2\n",
      "rafale         0    0    0    0     0            0     121      0\n",
      "su-37          1    0    0    0     2            5       2    108\n"
     ]
    }
   ],
   "source": [
    "#compile and train the model\n",
    "results = evaluate_model(X_train, y_train, X_test, y_test)"
   ]
  },
  {
   "cell_type": "raw",
   "id": "beaea1c0",
   "metadata": {},
   "source": [
    "epochs = 1  : 0.40\n",
    "epochs = 10 : 0.90\n",
    "epochs = 10 : 0.92"
   ]
  },
  {
   "cell_type": "code",
   "execution_count": null,
   "id": "3766065e",
   "metadata": {},
   "outputs": [],
   "source": [
    "#[print(i.shape, i.dtype) for i in model.inputs]\n",
    "#[print(o.shape, o.dtype) for o in model.outputs]\n",
    "#[print(l.name, l.input_shape, l.dtype) for l in model.layers]"
   ]
  }
 ],
 "metadata": {
  "kernelspec": {
   "display_name": "Python 3 (ipykernel)",
   "language": "python",
   "name": "python3"
  },
  "language_info": {
   "codemirror_mode": {
    "name": "ipython",
    "version": 3
   },
   "file_extension": ".py",
   "mimetype": "text/x-python",
   "name": "python",
   "nbconvert_exporter": "python",
   "pygments_lexer": "ipython3",
   "version": "3.7.11"
  }
 },
 "nbformat": 4,
 "nbformat_minor": 5
}
